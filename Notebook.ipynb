{
 "cells": [
  {
   "cell_type": "code",
   "execution_count": 1,
   "metadata": {},
   "outputs": [],
   "source": [
    "from sklearn.model_selection import train_test_split\n",
    "import csv,numpy as np,pandas as pd\n",
    "import os"
   ]
  },
  {
   "cell_type": "code",
   "execution_count": 5,
   "metadata": {},
   "outputs": [],
   "source": [
    "data = pd.read_csv('data/Training.csv')"
   ]
  },
  {
   "cell_type": "code",
   "execution_count": 9,
   "metadata": {},
   "outputs": [
    {
     "data": {
      "text/html": [
       "<div>\n",
       "<style scoped>\n",
       "    .dataframe tbody tr th:only-of-type {\n",
       "        vertical-align: middle;\n",
       "    }\n",
       "\n",
       "    .dataframe tbody tr th {\n",
       "        vertical-align: top;\n",
       "    }\n",
       "\n",
       "    .dataframe thead th {\n",
       "        text-align: right;\n",
       "    }\n",
       "</style>\n",
       "<table border=\"1\" class=\"dataframe\">\n",
       "  <thead>\n",
       "    <tr style=\"text-align: right;\">\n",
       "      <th></th>\n",
       "      <th>itching</th>\n",
       "      <th>skin_rash</th>\n",
       "      <th>nodal_skin_eruptions</th>\n",
       "      <th>continuous_sneezing</th>\n",
       "      <th>shivering</th>\n",
       "      <th>chills</th>\n",
       "      <th>joint_pain</th>\n",
       "      <th>stomach_pain</th>\n",
       "      <th>acidity</th>\n",
       "      <th>ulcers_on_tongue</th>\n",
       "      <th>...</th>\n",
       "      <th>blackheads</th>\n",
       "      <th>scurring</th>\n",
       "      <th>skin_peeling</th>\n",
       "      <th>silver_like_dusting</th>\n",
       "      <th>small_dents_in_nails</th>\n",
       "      <th>inflammatory_nails</th>\n",
       "      <th>blister</th>\n",
       "      <th>red_sore_around_nose</th>\n",
       "      <th>yellow_crust_ooze</th>\n",
       "      <th>prognosis</th>\n",
       "    </tr>\n",
       "  </thead>\n",
       "  <tbody>\n",
       "    <tr>\n",
       "      <th>0</th>\n",
       "      <td>1</td>\n",
       "      <td>1</td>\n",
       "      <td>1</td>\n",
       "      <td>0</td>\n",
       "      <td>0</td>\n",
       "      <td>0</td>\n",
       "      <td>0</td>\n",
       "      <td>0</td>\n",
       "      <td>0</td>\n",
       "      <td>0</td>\n",
       "      <td>...</td>\n",
       "      <td>0</td>\n",
       "      <td>0</td>\n",
       "      <td>0</td>\n",
       "      <td>0</td>\n",
       "      <td>0</td>\n",
       "      <td>0</td>\n",
       "      <td>0</td>\n",
       "      <td>0</td>\n",
       "      <td>0</td>\n",
       "      <td>Fungal infection</td>\n",
       "    </tr>\n",
       "    <tr>\n",
       "      <th>1</th>\n",
       "      <td>0</td>\n",
       "      <td>1</td>\n",
       "      <td>1</td>\n",
       "      <td>0</td>\n",
       "      <td>0</td>\n",
       "      <td>0</td>\n",
       "      <td>0</td>\n",
       "      <td>0</td>\n",
       "      <td>0</td>\n",
       "      <td>0</td>\n",
       "      <td>...</td>\n",
       "      <td>0</td>\n",
       "      <td>0</td>\n",
       "      <td>0</td>\n",
       "      <td>0</td>\n",
       "      <td>0</td>\n",
       "      <td>0</td>\n",
       "      <td>0</td>\n",
       "      <td>0</td>\n",
       "      <td>0</td>\n",
       "      <td>Fungal infection</td>\n",
       "    </tr>\n",
       "    <tr>\n",
       "      <th>2</th>\n",
       "      <td>1</td>\n",
       "      <td>0</td>\n",
       "      <td>1</td>\n",
       "      <td>0</td>\n",
       "      <td>0</td>\n",
       "      <td>0</td>\n",
       "      <td>0</td>\n",
       "      <td>0</td>\n",
       "      <td>0</td>\n",
       "      <td>0</td>\n",
       "      <td>...</td>\n",
       "      <td>0</td>\n",
       "      <td>0</td>\n",
       "      <td>0</td>\n",
       "      <td>0</td>\n",
       "      <td>0</td>\n",
       "      <td>0</td>\n",
       "      <td>0</td>\n",
       "      <td>0</td>\n",
       "      <td>0</td>\n",
       "      <td>Fungal infection</td>\n",
       "    </tr>\n",
       "    <tr>\n",
       "      <th>3</th>\n",
       "      <td>1</td>\n",
       "      <td>1</td>\n",
       "      <td>0</td>\n",
       "      <td>0</td>\n",
       "      <td>0</td>\n",
       "      <td>0</td>\n",
       "      <td>0</td>\n",
       "      <td>0</td>\n",
       "      <td>0</td>\n",
       "      <td>0</td>\n",
       "      <td>...</td>\n",
       "      <td>0</td>\n",
       "      <td>0</td>\n",
       "      <td>0</td>\n",
       "      <td>0</td>\n",
       "      <td>0</td>\n",
       "      <td>0</td>\n",
       "      <td>0</td>\n",
       "      <td>0</td>\n",
       "      <td>0</td>\n",
       "      <td>Fungal infection</td>\n",
       "    </tr>\n",
       "    <tr>\n",
       "      <th>4</th>\n",
       "      <td>1</td>\n",
       "      <td>1</td>\n",
       "      <td>1</td>\n",
       "      <td>0</td>\n",
       "      <td>0</td>\n",
       "      <td>0</td>\n",
       "      <td>0</td>\n",
       "      <td>0</td>\n",
       "      <td>0</td>\n",
       "      <td>0</td>\n",
       "      <td>...</td>\n",
       "      <td>0</td>\n",
       "      <td>0</td>\n",
       "      <td>0</td>\n",
       "      <td>0</td>\n",
       "      <td>0</td>\n",
       "      <td>0</td>\n",
       "      <td>0</td>\n",
       "      <td>0</td>\n",
       "      <td>0</td>\n",
       "      <td>Fungal infection</td>\n",
       "    </tr>\n",
       "  </tbody>\n",
       "</table>\n",
       "<p>5 rows × 133 columns</p>\n",
       "</div>"
      ],
      "text/plain": [
       "   itching  skin_rash  nodal_skin_eruptions  continuous_sneezing  shivering  \\\n",
       "0        1          1                     1                    0          0   \n",
       "1        0          1                     1                    0          0   \n",
       "2        1          0                     1                    0          0   \n",
       "3        1          1                     0                    0          0   \n",
       "4        1          1                     1                    0          0   \n",
       "\n",
       "   chills  joint_pain  stomach_pain  acidity  ulcers_on_tongue  ...  \\\n",
       "0       0           0             0        0                 0  ...   \n",
       "1       0           0             0        0                 0  ...   \n",
       "2       0           0             0        0                 0  ...   \n",
       "3       0           0             0        0                 0  ...   \n",
       "4       0           0             0        0                 0  ...   \n",
       "\n",
       "   blackheads  scurring  skin_peeling  silver_like_dusting  \\\n",
       "0           0         0             0                    0   \n",
       "1           0         0             0                    0   \n",
       "2           0         0             0                    0   \n",
       "3           0         0             0                    0   \n",
       "4           0         0             0                    0   \n",
       "\n",
       "   small_dents_in_nails  inflammatory_nails  blister  red_sore_around_nose  \\\n",
       "0                     0                   0        0                     0   \n",
       "1                     0                   0        0                     0   \n",
       "2                     0                   0        0                     0   \n",
       "3                     0                   0        0                     0   \n",
       "4                     0                   0        0                     0   \n",
       "\n",
       "   yellow_crust_ooze         prognosis  \n",
       "0                  0  Fungal infection  \n",
       "1                  0  Fungal infection  \n",
       "2                  0  Fungal infection  \n",
       "3                  0  Fungal infection  \n",
       "4                  0  Fungal infection  \n",
       "\n",
       "[5 rows x 133 columns]"
      ]
     },
     "execution_count": 9,
     "metadata": {},
     "output_type": "execute_result"
    }
   ],
   "source": [
    "data.head()"
   ]
  },
  {
   "cell_type": "code",
   "execution_count": 10,
   "metadata": {},
   "outputs": [
    {
     "data": {
      "text/plain": [
       "<matplotlib.axes._subplots.AxesSubplot at 0x7f2c8ac75a10>"
      ]
     },
     "execution_count": 10,
     "metadata": {},
     "output_type": "execute_result"
    },
    {
     "data": {
      "image/png": "[encoded data removed]",
      "text/plain": [
       "<Figure size 432x288 with 1 Axes>"
      ]
     },
     "metadata": {
      "needs_background": "light"
     },
     "output_type": "display_data"
    }
   ],
   "source": [
    "data['prognosis'].value_counts().plot.bar(title='Classification Frequency')"
   ]
  },
  {
   "cell_type": "code",
   "execution_count": 6,
   "metadata": {},
   "outputs": [],
   "source": [
    "df = pd.DataFrame(data)\n",
    "cols = df.columns\n",
    "cols = cols[:-1]"
   ]
  },
  {
   "cell_type": "code",
   "execution_count": 7,
   "metadata": {},
   "outputs": [],
   "source": [
    "x = df[cols]\n",
    "y = df['prognosis']"
   ]
  },
  {
   "cell_type": "markdown",
   "metadata": {},
   "source": [
    "# Training & Splitting"
   ]
  },
  {
   "cell_type": "code",
   "execution_count": 12,
   "metadata": {},
   "outputs": [],
   "source": [
    "X_train, X_test, y_train, y_test = train_test_split(x, y, test_size=0.33, random_state=42)"
   ]
  },
  {
   "cell_type": "markdown",
   "metadata": {},
   "source": [
    "Model selection"
   ]
  },
  {
   "cell_type": "code",
   "execution_count": 15,
   "metadata": {},
   "outputs": [],
   "source": [
    "from sklearn.model_selection import cross_val_score\n",
    "from sklearn.metrics import classification_report\n",
    "from sklearn.metrics import confusion_matrix\n",
    "from sklearn.metrics import accuracy_score\n",
    "import matplotlib.pyplot as plt"
   ]
  },
  {
   "cell_type": "markdown",
   "metadata": {},
   "source": [
    "# Machine Learning"
   ]
  },
  {
   "cell_type": "markdown",
   "metadata": {},
   "source": [
    "# Support Vector Machine Classifier"
   ]
  },
  {
   "cell_type": "code",
   "execution_count": 16,
   "metadata": {},
   "outputs": [
    {
     "name": "stdout",
     "output_type": "stream",
     "text": [
      "*Accuracy score for SVM:  100.0 \n",
      "\n",
      "*Confusion Matrix for SVM: \n",
      "[[37  0  0 ...  0  0  0]\n",
      " [ 0 42  0 ...  0  0  0]\n",
      " [ 0  0 42 ...  0  0  0]\n",
      " ...\n",
      " [ 0  0  0 ... 41  0  0]\n",
      " [ 0  0  0 ...  0 40  0]\n",
      " [ 0  0  0 ...  0  0 44]]\n",
      "*Classification Report for SVM: \n",
      "                                         precision    recall  f1-score   support\n",
      "\n",
      "(vertigo) Paroymsal  Positional Vertigo       1.00      1.00      1.00        37\n",
      "                                   AIDS       1.00      1.00      1.00        42\n",
      "                                   Acne       1.00      1.00      1.00        42\n",
      "                    Alcoholic hepatitis       1.00      1.00      1.00        40\n",
      "                                Allergy       1.00      1.00      1.00        36\n",
      "                              Arthritis       1.00      1.00      1.00        42\n",
      "                       Bronchial Asthma       1.00      1.00      1.00        48\n",
      "                   Cervical spondylosis       1.00      1.00      1.00        37\n",
      "                            Chicken pox       1.00      1.00      1.00        38\n",
      "                    Chronic cholestasis       1.00      1.00      1.00        31\n",
      "                            Common Cold       1.00      1.00      1.00        34\n",
      "                                 Dengue       1.00      1.00      1.00        46\n",
      "                              Diabetes        1.00      1.00      1.00        35\n",
      "           Dimorphic hemmorhoids(piles)       1.00      1.00      1.00        50\n",
      "                          Drug Reaction       1.00      1.00      1.00        38\n",
      "                       Fungal infection       1.00      1.00      1.00        33\n",
      "                                   GERD       1.00      1.00      1.00        43\n",
      "                        Gastroenteritis       1.00      1.00      1.00        43\n",
      "                           Heart attack       1.00      1.00      1.00        42\n",
      "                            Hepatitis B       1.00      1.00      1.00        47\n",
      "                            Hepatitis C       1.00      1.00      1.00        40\n",
      "                            Hepatitis D       1.00      1.00      1.00        38\n",
      "                            Hepatitis E       1.00      1.00      1.00        50\n",
      "                          Hypertension        1.00      1.00      1.00        37\n",
      "                        Hyperthyroidism       1.00      1.00      1.00        42\n",
      "                           Hypoglycemia       1.00      1.00      1.00        44\n",
      "                         Hypothyroidism       1.00      1.00      1.00        38\n",
      "                               Impetigo       1.00      1.00      1.00        36\n",
      "                               Jaundice       1.00      1.00      1.00        37\n",
      "                                Malaria       1.00      1.00      1.00        35\n",
      "                               Migraine       1.00      1.00      1.00        39\n",
      "                        Osteoarthristis       1.00      1.00      1.00        30\n",
      "           Paralysis (brain hemorrhage)       1.00      1.00      1.00        38\n",
      "                    Peptic ulcer diseae       1.00      1.00      1.00        31\n",
      "                              Pneumonia       1.00      1.00      1.00        46\n",
      "                              Psoriasis       1.00      1.00      1.00        33\n",
      "                           Tuberculosis       1.00      1.00      1.00        40\n",
      "                                Typhoid       1.00      1.00      1.00        41\n",
      "                Urinary tract infection       1.00      1.00      1.00        41\n",
      "                         Varicose veins       1.00      1.00      1.00        40\n",
      "                            hepatitis A       1.00      1.00      1.00        44\n",
      "\n",
      "                               accuracy                           1.00      1624\n",
      "                              macro avg       1.00      1.00      1.00      1624\n",
      "                           weighted avg       1.00      1.00      1.00      1624\n",
      "\n",
      "[[37  0  0 ...  0  0  0]\n",
      " [ 0 42  0 ...  0  0  0]\n",
      " [ 0  0 42 ...  0  0  0]\n",
      " ...\n",
      " [ 0  0  0 ... 41  0  0]\n",
      " [ 0  0  0 ...  0 40  0]\n",
      " [ 0  0  0 ...  0  0 44]]\n"
     ]
    },
    {
     "data": {
      "image/png": "[encoded data removed]",
      "text/plain": [
       "<Figure size 288x288 with 2 Axes>"
      ]
     },
     "metadata": {
      "needs_background": "light"
     },
     "output_type": "display_data"
    }
   ],
   "source": [
    "from sklearn.svm import SVC\n",
    "SVM = SVC(kernel='linear')\n",
    "SVM.fit(X_train, y_train)\n",
    "predictions = SVM.predict(X_test)\n",
    "val1 = (accuracy_score(y_test, predictions)*100)\n",
    "print(\"*Accuracy score for SVM: \", val1, \"\\n\")\n",
    "print(\"*Confusion Matrix for SVM: \")\n",
    "print(confusion_matrix(y_test, predictions))\n",
    "print(\"*Classification Report for SVM: \")\n",
    "print(classification_report(y_test, predictions))\n",
    "\n",
    "from sklearn.metrics import confusion_matrix\n",
    "cm = confusion_matrix(y_test, predictions)\n",
    "from sklearn.metrics import confusion_matrix\n",
    "cm = confusion_matrix(y_test, predictions)\n",
    "print(cm)\n",
    "\n",
    "plt.matshow(cm)\n",
    "plt.title('Confusion matrix of the classifier\\n')\n",
    "plt.xlabel('Predicted')\n",
    "plt.ylabel('True')\n",
    "plt.colorbar()\n",
    "plt.show()"
   ]
  },
  {
   "cell_type": "markdown",
   "metadata": {},
   "source": [
    "# Decision Tree"
   ]
  },
  {
   "cell_type": "code",
   "execution_count": 22,
   "metadata": {},
   "outputs": [
    {
     "name": "stdout",
     "output_type": "stream",
     "text": [
      "*Accuracy score for DT:  100.0 \n",
      "\n",
      "*Confusion Matrix for DT: \n",
      "[[37  0  0 ...  0  0  0]\n",
      " [ 0 42  0 ...  0  0  0]\n",
      " [ 0  0 42 ...  0  0  0]\n",
      " ...\n",
      " [ 0  0  0 ... 41  0  0]\n",
      " [ 0  0  0 ...  0 40  0]\n",
      " [ 0  0  0 ...  0  0 44]]\n",
      "*Classification Report for DT: \n",
      "                                         precision    recall  f1-score   support\n",
      "\n",
      "(vertigo) Paroymsal  Positional Vertigo       1.00      1.00      1.00        37\n",
      "                                   AIDS       1.00      1.00      1.00        42\n",
      "                                   Acne       1.00      1.00      1.00        42\n",
      "                    Alcoholic hepatitis       1.00      1.00      1.00        40\n",
      "                                Allergy       1.00      1.00      1.00        36\n",
      "                              Arthritis       1.00      1.00      1.00        42\n",
      "                       Bronchial Asthma       1.00      1.00      1.00        48\n",
      "                   Cervical spondylosis       1.00      1.00      1.00        37\n",
      "                            Chicken pox       1.00      1.00      1.00        38\n",
      "                    Chronic cholestasis       1.00      1.00      1.00        31\n",
      "                            Common Cold       1.00      1.00      1.00        34\n",
      "                                 Dengue       1.00      1.00      1.00        46\n",
      "                              Diabetes        1.00      1.00      1.00        35\n",
      "           Dimorphic hemmorhoids(piles)       1.00      1.00      1.00        50\n",
      "                          Drug Reaction       1.00      1.00      1.00        38\n",
      "                       Fungal infection       1.00      1.00      1.00        33\n",
      "                                   GERD       1.00      1.00      1.00        43\n",
      "                        Gastroenteritis       1.00      1.00      1.00        43\n",
      "                           Heart attack       1.00      1.00      1.00        42\n",
      "                            Hepatitis B       1.00      1.00      1.00        47\n",
      "                            Hepatitis C       1.00      1.00      1.00        40\n",
      "                            Hepatitis D       1.00      1.00      1.00        38\n",
      "                            Hepatitis E       1.00      1.00      1.00        50\n",
      "                          Hypertension        1.00      1.00      1.00        37\n",
      "                        Hyperthyroidism       1.00      1.00      1.00        42\n",
      "                           Hypoglycemia       1.00      1.00      1.00        44\n",
      "                         Hypothyroidism       1.00      1.00      1.00        38\n",
      "                               Impetigo       1.00      1.00      1.00        36\n",
      "                               Jaundice       1.00      1.00      1.00        37\n",
      "                                Malaria       1.00      1.00      1.00        35\n",
      "                               Migraine       1.00      1.00      1.00        39\n",
      "                        Osteoarthristis       1.00      1.00      1.00        30\n",
      "           Paralysis (brain hemorrhage)       1.00      1.00      1.00        38\n",
      "                    Peptic ulcer diseae       1.00      1.00      1.00        31\n",
      "                              Pneumonia       1.00      1.00      1.00        46\n",
      "                              Psoriasis       1.00      1.00      1.00        33\n",
      "                           Tuberculosis       1.00      1.00      1.00        40\n",
      "                                Typhoid       1.00      1.00      1.00        41\n",
      "                Urinary tract infection       1.00      1.00      1.00        41\n",
      "                         Varicose veins       1.00      1.00      1.00        40\n",
      "                            hepatitis A       1.00      1.00      1.00        44\n",
      "\n",
      "                               accuracy                           1.00      1624\n",
      "                              macro avg       1.00      1.00      1.00      1624\n",
      "                           weighted avg       1.00      1.00      1.00      1624\n",
      "\n",
      "[[37  0  0 ...  0  0  0]\n",
      " [ 0 42  0 ...  0  0  0]\n",
      " [ 0  0 42 ...  0  0  0]\n",
      " ...\n",
      " [ 0  0  0 ... 41  0  0]\n",
      " [ 0  0  0 ...  0 40  0]\n",
      " [ 0  0  0 ...  0  0 44]]\n",
      "1.0\n"
     ]
    },
    {
     "data": {
      "image/png": "[encoded data removed]",
      "text/plain": [
       "<Figure size 288x288 with 2 Axes>"
      ]
     },
     "metadata": {
      "needs_background": "light"
     },
     "output_type": "display_data"
    }
   ],
   "source": [
    "from sklearn import tree\n",
    "DT = tree.DecisionTreeClassifier()\n",
    "DT.fit(X_train, y_train)\n",
    "predictions = DT.predict(X_test)\n",
    "val2 = (accuracy_score(y_test, predictions)*100)\n",
    "print(\"*Accuracy score for DT: \", val2, \"\\n\")\n",
    "print(\"*Confusion Matrix for DT: \")\n",
    "print(confusion_matrix(y_test, predictions))\n",
    "print(\"*Classification Report for DT: \")\n",
    "print(classification_report(y_test, predictions))\n",
    "\n",
    "from sklearn.metrics import confusion_matrix\n",
    "cm = confusion_matrix(y_test, predictions)\n",
    "from sklearn.metrics import confusion_matrix\n",
    "cm = confusion_matrix(y_test, predictions)\n",
    "print(cm)\n",
    "print(accuracy_score(y_test, predictions))\n",
    "\n",
    "plt.matshow(cm)\n",
    "plt.title('Confusion matrix of the classifier\\n')\n",
    "plt.xlabel('Predicted')\n",
    "plt.ylabel('True')\n",
    "plt.colorbar()\n",
    "plt.show()"
   ]
  },
  {
   "cell_type": "markdown",
   "metadata": {},
   "source": [
    "# Random Forest"
   ]
  },
  {
   "cell_type": "code",
   "execution_count": 18,
   "metadata": {},
   "outputs": [
    {
     "name": "stdout",
     "output_type": "stream",
     "text": [
      "*Accuracy score for RF:  100.0 \n",
      "\n",
      "*Confusion Matrix for RF: \n",
      "[[37  0  0 ...  0  0  0]\n",
      " [ 0 42  0 ...  0  0  0]\n",
      " [ 0  0 42 ...  0  0  0]\n",
      " ...\n",
      " [ 0  0  0 ... 41  0  0]\n",
      " [ 0  0  0 ...  0 40  0]\n",
      " [ 0  0  0 ...  0  0 44]]\n",
      "*Classification Report for RF: \n",
      "                                         precision    recall  f1-score   support\n",
      "\n",
      "(vertigo) Paroymsal  Positional Vertigo       1.00      1.00      1.00        37\n",
      "                                   AIDS       1.00      1.00      1.00        42\n",
      "                                   Acne       1.00      1.00      1.00        42\n",
      "                    Alcoholic hepatitis       1.00      1.00      1.00        40\n",
      "                                Allergy       1.00      1.00      1.00        36\n",
      "                              Arthritis       1.00      1.00      1.00        42\n",
      "                       Bronchial Asthma       1.00      1.00      1.00        48\n",
      "                   Cervical spondylosis       1.00      1.00      1.00        37\n",
      "                            Chicken pox       1.00      1.00      1.00        38\n",
      "                    Chronic cholestasis       1.00      1.00      1.00        31\n",
      "                            Common Cold       1.00      1.00      1.00        34\n",
      "                                 Dengue       1.00      1.00      1.00        46\n",
      "                              Diabetes        1.00      1.00      1.00        35\n",
      "           Dimorphic hemmorhoids(piles)       1.00      1.00      1.00        50\n",
      "                          Drug Reaction       1.00      1.00      1.00        38\n",
      "                       Fungal infection       1.00      1.00      1.00        33\n",
      "                                   GERD       1.00      1.00      1.00        43\n",
      "                        Gastroenteritis       1.00      1.00      1.00        43\n",
      "                           Heart attack       1.00      1.00      1.00        42\n",
      "                            Hepatitis B       1.00      1.00      1.00        47\n",
      "                            Hepatitis C       1.00      1.00      1.00        40\n",
      "                            Hepatitis D       1.00      1.00      1.00        38\n",
      "                            Hepatitis E       1.00      1.00      1.00        50\n",
      "                          Hypertension        1.00      1.00      1.00        37\n",
      "                        Hyperthyroidism       1.00      1.00      1.00        42\n",
      "                           Hypoglycemia       1.00      1.00      1.00        44\n",
      "                         Hypothyroidism       1.00      1.00      1.00        38\n",
      "                               Impetigo       1.00      1.00      1.00        36\n",
      "                               Jaundice       1.00      1.00      1.00        37\n",
      "                                Malaria       1.00      1.00      1.00        35\n",
      "                               Migraine       1.00      1.00      1.00        39\n",
      "                        Osteoarthristis       1.00      1.00      1.00        30\n",
      "           Paralysis (brain hemorrhage)       1.00      1.00      1.00        38\n",
      "                    Peptic ulcer diseae       1.00      1.00      1.00        31\n",
      "                              Pneumonia       1.00      1.00      1.00        46\n",
      "                              Psoriasis       1.00      1.00      1.00        33\n",
      "                           Tuberculosis       1.00      1.00      1.00        40\n",
      "                                Typhoid       1.00      1.00      1.00        41\n",
      "                Urinary tract infection       1.00      1.00      1.00        41\n",
      "                         Varicose veins       1.00      1.00      1.00        40\n",
      "                            hepatitis A       1.00      1.00      1.00        44\n",
      "\n",
      "                               accuracy                           1.00      1624\n",
      "                              macro avg       1.00      1.00      1.00      1624\n",
      "                           weighted avg       1.00      1.00      1.00      1624\n",
      "\n",
      "[[37  0  0 ...  0  0  0]\n",
      " [ 0 42  0 ...  0  0  0]\n",
      " [ 0  0 42 ...  0  0  0]\n",
      " ...\n",
      " [ 0  0  0 ... 41  0  0]\n",
      " [ 0  0  0 ...  0 40  0]\n",
      " [ 0  0  0 ...  0  0 44]]\n"
     ]
    },
    {
     "data": {
      "image/png": "[encoded data removed]",
      "text/plain": [
       "<Figure size 288x288 with 2 Axes>"
      ]
     },
     "metadata": {
      "needs_background": "light"
     },
     "output_type": "display_data"
    }
   ],
   "source": [
    "from sklearn.ensemble import RandomForestClassifier\n",
    "RF = RandomForestClassifier()\n",
    "RF.fit(X_train, y_train)\n",
    "predictions = RF.predict(X_test)\n",
    "val3 = (accuracy_score(y_test, predictions)*100)\n",
    "print(\"*Accuracy score for RF: \", val3, \"\\n\")\n",
    "print(\"*Confusion Matrix for RF: \")\n",
    "print(confusion_matrix(y_test, predictions))\n",
    "print(\"*Classification Report for RF: \")\n",
    "print(classification_report(y_test, predictions))\n",
    "from sklearn.metrics import confusion_matrix\n",
    "cm = confusion_matrix(y_test, predictions)\n",
    "from sklearn.metrics import confusion_matrix\n",
    "cm = confusion_matrix(y_test, predictions)\n",
    "print(cm)\n",
    "\n",
    "plt.matshow(cm)\n",
    "plt.title('Confusion matrix of the classifier\\n')\n",
    "plt.xlabel('Predicted')\n",
    "plt.ylabel('True')\n",
    "plt.colorbar()\n",
    "plt.show()"
   ]
  },
  {
   "cell_type": "code",
   "execution_count": 19,
   "metadata": {},
   "outputs": [
    {
     "name": "stdout",
     "output_type": "stream",
     "text": [
      "*Accuracy score for GNB:  100.0 \n",
      "\n",
      "*Confusion Matrix for GNB: \n",
      "[[37  0  0 ...  0  0  0]\n",
      " [ 0 42  0 ...  0  0  0]\n",
      " [ 0  0 42 ...  0  0  0]\n",
      " ...\n",
      " [ 0  0  0 ... 41  0  0]\n",
      " [ 0  0  0 ...  0 40  0]\n",
      " [ 0  0  0 ...  0  0 44]]\n",
      "*Classification Report for GNB: \n",
      "                                         precision    recall  f1-score   support\n",
      "\n",
      "(vertigo) Paroymsal  Positional Vertigo       1.00      1.00      1.00        37\n",
      "                                   AIDS       1.00      1.00      1.00        42\n",
      "                                   Acne       1.00      1.00      1.00        42\n",
      "                    Alcoholic hepatitis       1.00      1.00      1.00        40\n",
      "                                Allergy       1.00      1.00      1.00        36\n",
      "                              Arthritis       1.00      1.00      1.00        42\n",
      "                       Bronchial Asthma       1.00      1.00      1.00        48\n",
      "                   Cervical spondylosis       1.00      1.00      1.00        37\n",
      "                            Chicken pox       1.00      1.00      1.00        38\n",
      "                    Chronic cholestasis       1.00      1.00      1.00        31\n",
      "                            Common Cold       1.00      1.00      1.00        34\n",
      "                                 Dengue       1.00      1.00      1.00        46\n",
      "                              Diabetes        1.00      1.00      1.00        35\n",
      "           Dimorphic hemmorhoids(piles)       1.00      1.00      1.00        50\n",
      "                          Drug Reaction       1.00      1.00      1.00        38\n",
      "                       Fungal infection       1.00      1.00      1.00        33\n",
      "                                   GERD       1.00      1.00      1.00        43\n",
      "                        Gastroenteritis       1.00      1.00      1.00        43\n",
      "                           Heart attack       1.00      1.00      1.00        42\n",
      "                            Hepatitis B       1.00      1.00      1.00        47\n",
      "                            Hepatitis C       1.00      1.00      1.00        40\n",
      "                            Hepatitis D       1.00      1.00      1.00        38\n",
      "                            Hepatitis E       1.00      1.00      1.00        50\n",
      "                          Hypertension        1.00      1.00      1.00        37\n",
      "                        Hyperthyroidism       1.00      1.00      1.00        42\n",
      "                           Hypoglycemia       1.00      1.00      1.00        44\n",
      "                         Hypothyroidism       1.00      1.00      1.00        38\n",
      "                               Impetigo       1.00      1.00      1.00        36\n",
      "                               Jaundice       1.00      1.00      1.00        37\n",
      "                                Malaria       1.00      1.00      1.00        35\n",
      "                               Migraine       1.00      1.00      1.00        39\n",
      "                        Osteoarthristis       1.00      1.00      1.00        30\n",
      "           Paralysis (brain hemorrhage)       1.00      1.00      1.00        38\n",
      "                    Peptic ulcer diseae       1.00      1.00      1.00        31\n",
      "                              Pneumonia       1.00      1.00      1.00        46\n",
      "                              Psoriasis       1.00      1.00      1.00        33\n",
      "                           Tuberculosis       1.00      1.00      1.00        40\n",
      "                                Typhoid       1.00      1.00      1.00        41\n",
      "                Urinary tract infection       1.00      1.00      1.00        41\n",
      "                         Varicose veins       1.00      1.00      1.00        40\n",
      "                            hepatitis A       1.00      1.00      1.00        44\n",
      "\n",
      "                               accuracy                           1.00      1624\n",
      "                              macro avg       1.00      1.00      1.00      1624\n",
      "                           weighted avg       1.00      1.00      1.00      1624\n",
      "\n",
      "[[37  0  0 ...  0  0  0]\n",
      " [ 0 42  0 ...  0  0  0]\n",
      " [ 0  0 42 ...  0  0  0]\n",
      " ...\n",
      " [ 0  0  0 ... 41  0  0]\n",
      " [ 0  0  0 ...  0 40  0]\n",
      " [ 0  0  0 ...  0  0 44]]\n"
     ]
    },
    {
     "data": {
      "image/png": "[encoded data removed]",
      "text/plain": [
       "<Figure size 288x288 with 2 Axes>"
      ]
     },
     "metadata": {
      "needs_background": "light"
     },
     "output_type": "display_data"
    }
   ],
   "source": [
    "from sklearn import naive_bayes\n",
    "# Instanciate the classifier\n",
    "GNB = naive_bayes.GaussianNB()\n",
    "GNB.fit(X_train, y_train)\n",
    "predictions = GNB.predict(X_test)\n",
    "val4 = (accuracy_score(y_test, predictions)*100)\n",
    "print(\"*Accuracy score for GNB: \", val4, \"\\n\")\n",
    "print(\"*Confusion Matrix for GNB: \")\n",
    "print(confusion_matrix(y_test, predictions))\n",
    "print(\"*Classification Report for GNB: \")\n",
    "print(classification_report(y_test, predictions))\n",
    "from sklearn.metrics import confusion_matrix\n",
    "cm = confusion_matrix(y_test, predictions)\n",
    "from sklearn.metrics import confusion_matrix\n",
    "cm = confusion_matrix(y_test, predictions)\n",
    "print(cm)\n",
    "\n",
    "plt.matshow(cm)\n",
    "plt.title('Confusion matrix of the classifier\\n')\n",
    "plt.xlabel('Predicted')\n",
    "plt.ylabel('True')\n",
    "plt.colorbar()\n",
    "plt.show()"
   ]
  },
  {
   "cell_type": "markdown",
   "metadata": {},
   "source": [
    "# MLP"
   ]
  },
  {
   "cell_type": "code",
   "execution_count": 20,
   "metadata": {},
   "outputs": [
    {
     "name": "stdout",
     "output_type": "stream",
     "text": [
      "*Accuracy score for MLP:  100.0 \n",
      "\n",
      "*Confusion Matrix for MLP: \n",
      "[[37  0  0 ...  0  0  0]\n",
      " [ 0 42  0 ...  0  0  0]\n",
      " [ 0  0 42 ...  0  0  0]\n",
      " ...\n",
      " [ 0  0  0 ... 41  0  0]\n",
      " [ 0  0  0 ...  0 40  0]\n",
      " [ 0  0  0 ...  0  0 44]]\n",
      "*Classification Report for MLP: \n",
      "                                         precision    recall  f1-score   support\n",
      "\n",
      "(vertigo) Paroymsal  Positional Vertigo       1.00      1.00      1.00        37\n",
      "                                   AIDS       1.00      1.00      1.00        42\n",
      "                                   Acne       1.00      1.00      1.00        42\n",
      "                    Alcoholic hepatitis       1.00      1.00      1.00        40\n",
      "                                Allergy       1.00      1.00      1.00        36\n",
      "                              Arthritis       1.00      1.00      1.00        42\n",
      "                       Bronchial Asthma       1.00      1.00      1.00        48\n",
      "                   Cervical spondylosis       1.00      1.00      1.00        37\n",
      "                            Chicken pox       1.00      1.00      1.00        38\n",
      "                    Chronic cholestasis       1.00      1.00      1.00        31\n",
      "                            Common Cold       1.00      1.00      1.00        34\n",
      "                                 Dengue       1.00      1.00      1.00        46\n",
      "                              Diabetes        1.00      1.00      1.00        35\n",
      "           Dimorphic hemmorhoids(piles)       1.00      1.00      1.00        50\n",
      "                          Drug Reaction       1.00      1.00      1.00        38\n",
      "                       Fungal infection       1.00      1.00      1.00        33\n",
      "                                   GERD       1.00      1.00      1.00        43\n",
      "                        Gastroenteritis       1.00      1.00      1.00        43\n",
      "                           Heart attack       1.00      1.00      1.00        42\n",
      "                            Hepatitis B       1.00      1.00      1.00        47\n",
      "                            Hepatitis C       1.00      1.00      1.00        40\n",
      "                            Hepatitis D       1.00      1.00      1.00        38\n",
      "                            Hepatitis E       1.00      1.00      1.00        50\n",
      "                          Hypertension        1.00      1.00      1.00        37\n",
      "                        Hyperthyroidism       1.00      1.00      1.00        42\n",
      "                           Hypoglycemia       1.00      1.00      1.00        44\n",
      "                         Hypothyroidism       1.00      1.00      1.00        38\n",
      "                               Impetigo       1.00      1.00      1.00        36\n",
      "                               Jaundice       1.00      1.00      1.00        37\n",
      "                                Malaria       1.00      1.00      1.00        35\n",
      "                               Migraine       1.00      1.00      1.00        39\n",
      "                        Osteoarthristis       1.00      1.00      1.00        30\n",
      "           Paralysis (brain hemorrhage)       1.00      1.00      1.00        38\n",
      "                    Peptic ulcer diseae       1.00      1.00      1.00        31\n",
      "                              Pneumonia       1.00      1.00      1.00        46\n",
      "                              Psoriasis       1.00      1.00      1.00        33\n",
      "                           Tuberculosis       1.00      1.00      1.00        40\n",
      "                                Typhoid       1.00      1.00      1.00        41\n",
      "                Urinary tract infection       1.00      1.00      1.00        41\n",
      "                         Varicose veins       1.00      1.00      1.00        40\n",
      "                            hepatitis A       1.00      1.00      1.00        44\n",
      "\n",
      "                               accuracy                           1.00      1624\n",
      "                              macro avg       1.00      1.00      1.00      1624\n",
      "                           weighted avg       1.00      1.00      1.00      1624\n",
      "\n",
      "[[37  0  0 ...  0  0  0]\n",
      " [ 0 42  0 ...  0  0  0]\n",
      " [ 0  0 42 ...  0  0  0]\n",
      " ...\n",
      " [ 0  0  0 ... 41  0  0]\n",
      " [ 0  0  0 ...  0 40  0]\n",
      " [ 0  0  0 ...  0  0 44]]\n"
     ]
    },
    {
     "data": {
      "image/png": "[encoded data removed]",
      "text/plain": [
       "<Figure size 288x288 with 2 Axes>"
      ]
     },
     "metadata": {
      "needs_background": "light"
     },
     "output_type": "display_data"
    }
   ],
   "source": [
    "from sklearn.neural_network import MLPClassifier\n",
    "MLP = MLPClassifier()\n",
    "MLP.fit(X_train, y_train)\n",
    "predictions = MLP.predict(X_test)\n",
    "val5 = (accuracy_score(y_test, predictions)*100)\n",
    "print(\"*Accuracy score for MLP: \", val5, \"\\n\")\n",
    "print(\"*Confusion Matrix for MLP: \")\n",
    "print(confusion_matrix(y_test, predictions))\n",
    "print(\"*Classification Report for MLP: \")\n",
    "print(classification_report(y_test, predictions))\n",
    "\n",
    "from sklearn.metrics import confusion_matrix\n",
    "cm = confusion_matrix(y_test, predictions)\n",
    "from sklearn.metrics import confusion_matrix\n",
    "cm = confusion_matrix(y_test, predictions)\n",
    "print(cm)\n",
    "\n",
    "plt.matshow(cm)\n",
    "plt.title('Confusion matrix of the classifier\\n')\n",
    "plt.xlabel('Predicted')\n",
    "plt.ylabel('True')\n",
    "plt.colorbar()\n",
    "plt.show()"
   ]
  },
  {
   "cell_type": "markdown",
   "metadata": {},
   "source": [
    "# Model Comparsion"
   ]
  },
  {
   "cell_type": "code",
   "execution_count": 21,
   "metadata": {},
   "outputs": [
    {
     "name": "stderr",
     "output_type": "stream",
     "text": [
      "/home/user/anaconda3/lib/python3.7/site-packages/ipykernel_launcher.py:10: FutureWarning: 'from_array' is deprecated and will be removed in a future version. Please use the pd.Series(..) constructor instead.\n",
      "  # Remove the CWD from sys.path while we load stuff.\n"
     ]
    },
    {
     "data": {
      "image/png": "[encoded data removed]",
      "text/plain": [
       "<Figure size 864x576 with 1 Axes>"
      ]
     },
     "metadata": {
      "needs_background": "light"
     },
     "output_type": "display_data"
    }
   ],
   "source": [
    "import numpy as np\n",
    "import pandas as pd\n",
    "import matplotlib.pyplot as plt\n",
    "\n",
    "# Bring some raw data.\n",
    "frequencies = [val1,val2,val3,val4,val5]\n",
    "\n",
    "# In my original code I create a series and run on that,\n",
    "# so for consistency I create a series from the list.\n",
    "freq_series = pd.Series.from_array(frequencies)\n",
    "\n",
    "x_labels = ['SVM', 'DT','RF','GNB','MLP']\n",
    "\n",
    "# Plot the figure.\n",
    "plt.figure(figsize=(12, 8))\n",
    "ax = freq_series.plot(kind='bar')\n",
    "ax.set_title('Evaluation of ML & DL')\n",
    "ax.set_xlabel('Classifier!')\n",
    "ax.set_ylabel('Accuracy Range')\n",
    "ax.set_xticklabels(x_labels)\n",
    "\n",
    "\n",
    "def add_value_labels(ax, spacing=5):\n",
    "    \"\"\"Add labels to the end of each bar in a bar chart.\n",
    "\n",
    "    Arguments:\n",
    "        ax (matplotlib.axes.Axes): The matplotlib object containing the axes\n",
    "            of the plot to annotate.\n",
    "        spacing (int): The distance between the labels and the bars.\n",
    "    \"\"\"\n",
    "\n",
    "    # For each bar: Place a label\n",
    "    for rect in ax.patches:\n",
    "        # Get X and Y placement of label from rect.\n",
    "        y_value = rect.get_height()\n",
    "        x_value = rect.get_x() + rect.get_width() / 2\n",
    "\n",
    "        # Number of points between bar and label. Change to your liking.\n",
    "        space = spacing\n",
    "        # Vertical alignment for positive values\n",
    "        va = 'bottom'\n",
    "\n",
    "        # If value of bar is negative: Place label below bar\n",
    "        if y_value < 0:\n",
    "            # Invert space to place label below\n",
    "            space *= -1\n",
    "            # Vertically align label at top\n",
    "            va = 'top'\n",
    "\n",
    "        # Use Y value as label and format number with one decimal place\n",
    "        label = \"{:.1f}\".format(y_value)\n",
    "\n",
    "        # Create annotation\n",
    "        ax.annotate(\n",
    "            label,                      # Use `label` as label\n",
    "            (x_value, y_value),         # Place label at end of the bar\n",
    "            xytext=(0, space),          # Vertically shift label by `space`\n",
    "            textcoords=\"offset points\", # Interpret `xytext` as offset in points\n",
    "            ha='center',                # Horizontally center label\n",
    "            va=va)                      # Vertically align label differently for\n",
    "                                        # positive and negative values.\n",
    "\n",
    "\n",
    "# Call the function above. All the magic happens there.\n",
    "add_value_labels(ax)\n",
    "plt.show()\n",
    "#plt.savefig(\"image.png\")"
   ]
  },
  {
   "cell_type": "markdown",
   "metadata": {},
   "source": [
    "# Application"
   ]
  },
  {
   "cell_type": "code",
   "execution_count": 1,
   "metadata": {},
   "outputs": [
    {
     "name": "stdout",
     "output_type": "stream",
     "text": [
      "DecisionTree\n"
     ]
    }
   ],
   "source": [
    "from werkzeug.wrappers import Request, Response\n",
    "import csv\n",
    "from flask import Flask, render_template,request,redirect,url_for\n",
    "import diseaseprediction"
   ]
  },
  {
   "cell_type": "code",
   "execution_count": 2,
   "metadata": {},
   "outputs": [],
   "source": [
    "app = Flask(__name__)\n",
    "with open('templates/Testing.csv', newline='') as f:\n",
    "    reader = csv.reader(f)\n",
    "    symptoms = next(reader)\n",
    "    symptoms = symptoms[:len(symptoms)-1]"
   ]
  },
  {
   "cell_type": "code",
   "execution_count": 3,
   "metadata": {},
   "outputs": [],
   "source": [
    "@app.route('/', methods=['GET'])\n",
    "def dropdown():\n",
    "        return render_template('includes/default.html', symptoms=symptoms)\n",
    "\n",
    "@app.route('/disease_predict', methods=['POST'])\n",
    "def disease_predict():\n",
    "    selected_symptoms = []\n",
    "    if(request.form['Symptom1']!=\"\") and (request.form['Symptom1'] not in selected_symptoms):\n",
    "        selected_symptoms.append(request.form['Symptom1'])\n",
    "    if(request.form['Symptom2']!=\"\") and (request.form['Symptom2'] not in selected_symptoms):\n",
    "        selected_symptoms.append(request.form['Symptom2'])\n",
    "    if(request.form['Symptom3']!=\"\") and (request.form['Symptom3'] not in selected_symptoms):\n",
    "        selected_symptoms.append(request.form['Symptom3'])\n",
    "    if(request.form['Symptom4']!=\"\") and (request.form['Symptom4'] not in selected_symptoms):\n",
    "        selected_symptoms.append(request.form['Symptom4'])\n",
    "    if(request.form['Symptom5']!=\"\") and (request.form['Symptom5'] not in selected_symptoms):\n",
    "        selected_symptoms.append(request.form['Symptom5'])\n",
    "\n",
    "    # disease_list = []\n",
    "    # for i in range(7):\n",
    "    #     disease = diseaseprediction.dosomething(selected_symptoms)\n",
    "    #     disease_list.append(disease)\n",
    "    # return render_template('disease_predict.html',disease_list=disease_list)\n",
    "    disease = diseaseprediction.dosomething(selected_symptoms)\n",
    "    return render_template('disease_predict.html',disease=disease,symptoms=symptoms)\n",
    "\n",
    "# @app.route('/default')\n",
    "# def default():\n",
    "#         return render_template('includes/default.html')\n",
    " \n",
    "@app.route('/find_doctor', methods=['POST'])\n",
    "def get_location():\n",
    "    location = request.form['doctor']\n",
    "    return render_template('find_doctor.html',location=location,symptoms=symptoms)\n",
    "\n",
    "@app.route('/drug', methods=['POST'])\n",
    "def drugs():\n",
    "    medicine = request.form['medicine']\n",
    "    return render_template('homepage.html',medicine=medicine,symptoms=symptoms)\n"
   ]
  },
  {
   "cell_type": "code",
   "execution_count": 4,
   "metadata": {},
   "outputs": [
    {
     "name": "stderr",
     "output_type": "stream",
     "text": [
      " * Running on http://localhost:9000/ (Press CTRL+C to quit)\n",
      "127.0.0.1 - - [17/Oct/2020 21:30:43] \"\u001b[37mGET / HTTP/1.1\u001b[0m\" 200 -\n"
     ]
    }
   ],
   "source": [
    "if __name__ == '__main__':\n",
    "    from werkzeug.serving import run_simple\n",
    "    run_simple('localhost', 9000, app)"
   ]
  },
  {
   "cell_type": "code",
   "execution_count": null,
   "metadata": {},
   "outputs": [],
   "source": []
  }
 ],
 "metadata": {
  "kernelspec": {
   "display_name": "Python 3",
   "language": "python",
   "name": "python3"
  },
  "language_info": {
   "codemirror_mode": {
    "name": "ipython",
    "version": 3
   },
   "file_extension": ".py",
   "mimetype": "text/x-python",
   "name": "python",
   "nbconvert_exporter": "python",
   "pygments_lexer": "ipython3",
   "version": "3.7.6"
  }
 },
 "nbformat": 4,
 "nbformat_minor": 4
}
